{
 "cells": [
  {
   "cell_type": "markdown",
   "metadata": {},
   "source": [
    "Publication Analytics project\n",
    "---\n",
    "\n",
    "# Introduction\n",
    "This repo stores all materials for publication analytics project, funded by The Ministry of Research and Higher Education of Indonesia 2018. It is connected to the [Open Paleo](https://github.com/Meta-Paleo/OpenPaleo) project initiated by Jon Tennant. \n",
    "The PubAnalytics Project team:\n",
    "- PI: Dasapta Erwin Irawan\n",
    "- Collaborators: \n",
    "    - Dini Sofiani Permatasari\n",
    "    - Lusia Nurani\n",
    "    - Eko Didik (Undip)\n",
    "\n",
    "# Project concept\n",
    "## Problem and hypothesis\n",
    "\n",
    "will be added\n",
    "\n",
    "## Working Packages:\n",
    "\n",
    "1. PubAnalytics 1: Google Scholar Classic Papers\n",
    "2. PubAnalytics 2: Comparing paleo and other fields\n",
    "3. PubAnalytics 3: Cite Score\n",
    "4. PubAnalytics 4: Indonesian journal impact \n",
    "\n",
    "## Methods\n",
    "\n",
    "will be added\n",
    "\n",
    "## Expected outcome\n",
    "\n",
    "xxxx\n",
    "xxxx\n",
    "xxxx\n",
    "\n",
    "# RDM"
   ]
  }
 ],
 "metadata": {
  "anaconda-cloud": {},
  "kernelspec": {
   "display_name": "R",
   "language": "R",
   "name": "ir"
  },
  "language_info": {
   "codemirror_mode": "r",
   "file_extension": ".r",
   "mimetype": "text/x-r-source",
   "name": "R",
   "pygments_lexer": "r",
   "version": "3.5.0"
  }
 },
 "nbformat": 4,
 "nbformat_minor": 2
}
